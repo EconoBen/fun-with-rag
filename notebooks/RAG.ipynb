{
 "cells": [
  {
   "cell_type": "code",
   "execution_count": 8,
   "metadata": {},
   "outputs": [
    {
     "data": {
      "text/plain": [
       "True"
      ]
     },
     "execution_count": 8,
     "metadata": {},
     "output_type": "execute_result"
    }
   ],
   "source": [
    "# imports\n",
    "from pathlib import Path # useful QoL path conversion\n",
    "import fitz # converts pdfs to text\n",
    "\n",
    "from haystack import Pipeline, Document\n",
    "from haystack.document_stores.in_memory import InMemoryDocumentStore\n",
    "from haystack.components.retrievers.in_memory import InMemoryBM25Retriever\n",
    "from haystack.components.generators import OpenAIGenerator\n",
    "from haystack.components.builders.answer_builder import AnswerBuilder\n",
    "from haystack.components.builders.prompt_builder import PromptBuilder\n",
    "\n",
    "import logging\n",
    "from logging import Logger\n",
    "import colorlog\n",
    "from dotenv import load_dotenv\n",
    "from tiktoken import encoding_for_model, Encoding\n",
    "from pprint import pprint\n",
    "\n",
    "load_dotenv()"
   ]
  },
  {
   "cell_type": "code",
   "execution_count": 2,
   "metadata": {},
   "outputs": [],
   "source": [
    "def setup_logging() -> Logger:\n",
    "    # Create a custom logger\n",
    "    logger = logging.getLogger(__name__)\n",
    "    logger.setLevel(logging.DEBUG)\n",
    "\n",
    "    # Create a console handler with colored output\n",
    "    console_handler = logging.StreamHandler()\n",
    "    console_handler.setLevel(logging.DEBUG)\n",
    "\n",
    "    # Create a custom colored formatter\n",
    "    formatter = colorlog.ColoredFormatter(\n",
    "        \"%(asctime)s - %(log_color)s%(levelname)s%(reset)s - %(message)s\",\n",
    "        datefmt=\"%Y-%m-%d %H:%M:%S\",\n",
    "        log_colors={\n",
    "            \"DEBUG\": \"cyan\",\n",
    "            \"INFO\": \"green\",\n",
    "            \"WARNING\": \"yellow\",\n",
    "            \"ERROR\": \"red\",\n",
    "            \"CRITICAL\": \"red,bg_white\",\n",
    "        },\n",
    "    )\n",
    "    console_handler.setFormatter(formatter)\n",
    "\n",
    "    # Add the console handler to the logger\n",
    "    logger.addHandler(console_handler)\n",
    "\n",
    "    return logger"
   ]
  },
  {
   "cell_type": "code",
   "execution_count": 3,
   "metadata": {},
   "outputs": [],
   "source": [
    "# Build a RAG pipeline\n",
    "\n",
    "class RAG:\n",
    "    def __init__(self, dir_path: str, model_type: str = 'gpt-4'):\n",
    "        \"\"\"\n",
    "        Args:\n",
    "            dir_path (str): Directory containing data.\n",
    "        \"\"\"\n",
    "\n",
    "        self.logger: Logger = setup_logging()\n",
    "\n",
    "        self.logger.info(\"Setting up RAG!\")\n",
    "        self.model_type: str = model_type\n",
    "        self.dir_path: str = dir_path\n",
    "        self.logger.info(\"Extracting text from PDFs...\")\n",
    "        self.text_mapping: dict[str, str] = self.extract_text_from_files()\n",
    "        self.logger.info(\"All text extracted!\")\n",
    "\n",
    "        self.logger.info(\"Initializing pipeline...\")\n",
    "        self.start()\n",
    "        self.logger.info(\"Pipeline ready!\")\n",
    "\n",
    "\n",
    "\n",
    "    def extract_text_from_files(self, filetype: str = \"pdf\", max_doc_len: int = 4000) -> dict[str, str]:\n",
    "        \"\"\"\n",
    "        This function extracts text from files and returns their path and contents in a dictionary.\n",
    "        Args:\n",
    "            filetype (str): File type of documents.\n",
    "            max_doc_len (int): Maximum length of each text chunk.\n",
    "        Returns (dict[str, str]): A dictionary of paths as keys and text as values.\n",
    "        \"\"\"\n",
    "        text_map: dict[str, str] = {}\n",
    "\n",
    "        for idx, file in enumerate(Path(self.dir_path).iterdir()):\n",
    "            self.logger.info(\"Extracting from document %d ...\", idx + 1)\n",
    "            doc_path = file.read_bytes()  # file as bytes object\n",
    "\n",
    "            with fitz.open(stream=doc_path, filetype=filetype) as doc:\n",
    "                text = \"\"\n",
    "                chunk_idx = 1\n",
    "\n",
    "                for page in doc:\n",
    "                    read_text: str = page.get_text()\n",
    "                    remaining_text = read_text\n",
    "\n",
    "                    while remaining_text:\n",
    "                        chunk = remaining_text[:max_doc_len]\n",
    "                        remaining_text = remaining_text[max_doc_len:]\n",
    "\n",
    "                        if len(text) + len(chunk) <= max_doc_len:\n",
    "                            text += chunk\n",
    "                        else:\n",
    "                            text_map[f\"{file.as_posix()}_{chunk_idx}\"] = text\n",
    "                            text = chunk\n",
    "                            chunk_idx += 1\n",
    "\n",
    "                if text:\n",
    "                    text_map[f\"{file.as_posix()}_{chunk_idx}\"] = text\n",
    "\n",
    "        return text_map\n",
    "\n",
    "    def text_to_memory(self,\n",
    "                       text_dict: dict[str, str],\n",
    "                       similarity_func: str = 'dot-product') -> InMemoryDocumentStore:\n",
    "        \"\"\"Takes the paths and text values from our PDFs and converts them into\n",
    "        an in-memory document store with Haystack.\n",
    "\n",
    "        Args:\n",
    "            text_dict (dict[str, str]): A dictionary of paths as keys and text as values.\n",
    "            similarity_func (str): Type should be either 'dot_product' or 'cosine'.\n",
    "\n",
    "        Returns:\n",
    "            (InMemoryDocumentStore): Document store for our RAG, contains our information.\n",
    "        \"\"\"\n",
    "        self.document_store = InMemoryDocumentStore(embedding_similarity_function=similarity_func)\n",
    "\n",
    "        docs: list[Document] = [\n",
    "                Document(content=value, meta={\"book\": key}) for key, value in text_dict.items()\n",
    "            ]\n",
    "\n",
    "        self.document_store.write_documents(docs)\n",
    "\n",
    "    def pipeline(self):\n",
    "        prompt_template = \"\"\"\n",
    "        Given these documents, answer the question.\n",
    "        Documents:\n",
    "        {% for doc in documents %}\n",
    "            {{ doc.content }}\n",
    "        {% endfor %}\n",
    "        Question: {{question}}\n",
    "        Answer:\n",
    "        \"\"\"\n",
    "\n",
    "        retriever = InMemoryBM25Retriever(document_store=self.document_store)\n",
    "        prompt_builder = PromptBuilder(template=prompt_template)\n",
    "        llm = OpenAIGenerator(model=self.model_type)\n",
    "\n",
    "        self.logger.info(\"Embedding documents...\")\n",
    "        self.rag_pipeline = Pipeline()\n",
    "        self.rag_pipeline.add_component(\"retriever\", retriever)\n",
    "        self.rag_pipeline.add_component(\"prompt_builder\", prompt_builder)\n",
    "        self.rag_pipeline.add_component(\"llm\", llm)\n",
    "        self.rag_pipeline.connect(\"retriever\", \"prompt_builder.documents\")\n",
    "        self.rag_pipeline.connect(\"prompt_builder\", \"llm\")\n",
    "        self.logger.info(\"Documents embedded!\")\n",
    "\n",
    "\n",
    "    def start(self):\n",
    "        self.logger.info(\"Commiting documents to memory...\")\n",
    "        self.text_to_memory(self.text_mapping, similarity_func='cosine')\n",
    "        self.logger.info(\"Documents stored!\")\n",
    "\n",
    "        self.logger.info(\"Setting up document pipeline...\")\n",
    "        self.pipeline()\n",
    "        self.logger.info(\"Document pipeline built!\")\n"
   ]
  },
  {
   "cell_type": "code",
   "execution_count": 4,
   "metadata": {},
   "outputs": [
    {
     "name": "stderr",
     "output_type": "stream",
     "text": [
      "2024-03-30 13:22:15 - \u001b[32mINFO\u001b[0m - Setting up RAG!\u001b[0m\n",
      "2024-03-30 13:22:15 - \u001b[32mINFO\u001b[0m - Extracting text from PDFs...\u001b[0m\n",
      "2024-03-30 13:22:15 - \u001b[32mINFO\u001b[0m - Extracting from document 1 ...\u001b[0m\n",
      "2024-03-30 13:22:15 - \u001b[32mINFO\u001b[0m - Extracting from document 2 ...\u001b[0m\n",
      "2024-03-30 13:22:15 - \u001b[32mINFO\u001b[0m - Extracting from document 3 ...\u001b[0m\n",
      "2024-03-30 13:22:15 - \u001b[32mINFO\u001b[0m - All text extracted!\u001b[0m\n",
      "2024-03-30 13:22:15 - \u001b[32mINFO\u001b[0m - Initializing pipeline...\u001b[0m\n",
      "2024-03-30 13:22:15 - \u001b[32mINFO\u001b[0m - Commiting documents to memory...\u001b[0m\n",
      "2024-03-30 13:22:15 - \u001b[32mINFO\u001b[0m - Documents stored!\u001b[0m\n",
      "2024-03-30 13:22:15 - \u001b[32mINFO\u001b[0m - Setting up document pipeline...\u001b[0m\n",
      "2024-03-30 13:22:15 - \u001b[32mINFO\u001b[0m - Embedding documents...\u001b[0m\n",
      "2024-03-30 13:22:15 - \u001b[32mINFO\u001b[0m - Documents embedded!\u001b[0m\n",
      "2024-03-30 13:22:15 - \u001b[32mINFO\u001b[0m - Document pipeline built!\u001b[0m\n",
      "2024-03-30 13:22:15 - \u001b[32mINFO\u001b[0m - Pipeline ready!\u001b[0m\n"
     ]
    }
   ],
   "source": [
    "directory: str = \"/home/bjl/code/projects/twitch-rag/data/textbooks\"\n",
    "openai_model: str = 'gpt-4'\n",
    "agent: RAG = RAG(dir_path=directory, model_type=openai_model)"
   ]
  },
  {
   "cell_type": "code",
   "execution_count": 9,
   "metadata": {},
   "outputs": [],
   "source": [
    "def question_func(question: str) -> str:\n",
    "    \"\"\" Ask our pipeline a quest from our documentation.\n",
    "\n",
    "    Args:\n",
    "        question (str): A question to ask of the agent\n",
    "\n",
    "    Returns\n",
    "        (str): Response object from agent!\n",
    "\n",
    "    \"\"\"\n",
    "    results = agent.rag_pipeline.run(\n",
    "        {\n",
    "            \"retriever\": {\"query\": question},\n",
    "            \"prompt_builder\": {\"question\": question},\n",
    "        }\n",
    "    )\n",
    "\n",
    "    pprint(results[\"llm\"][\"replies\"])\n",
    "\n",
    "    return results"
   ]
  },
  {
   "cell_type": "code",
   "execution_count": 11,
   "metadata": {},
   "outputs": [
    {
     "data": {
      "application/vnd.jupyter.widget-view+json": {
       "model_id": "777afacafd7547beb7bc6fd2d5042a72",
       "version_major": 2,
       "version_minor": 0
      },
      "text/plain": [
       "Ranking by BM25...:   0%|          | 0/384 [00:00<?, ? docs/s]"
      ]
     },
     "metadata": {},
     "output_type": "display_data"
    },
    {
     "name": "stdout",
     "output_type": "stream",
     "text": [
      "['In Python, classes are a blueprint for creating objects (a particular data '\n",
      " 'structure), providing initial values for state, and implementations of '\n",
      " \"behavior. Classes are created using the keyword 'class' and an indented \"\n",
      " 'block, which contains class methods. Below is an example of the creation of '\n",
      " 'a class:\\n'\n",
      " '\\n'\n",
      " '```Python\\n'\n",
      " 'class MyClass:\\n'\n",
      " '    x = 5\\n'\n",
      " '```\\n'\n",
      " '\\n'\n",
      " 'In this example, a class named \"MyClass\" is created with a property named '\n",
      " '\"x\" set to 5. In order to create an object from the class, you would do the '\n",
      " 'following:\\n'\n",
      " '\\n'\n",
      " '```Python\\n'\n",
      " 'p1 = MyClass()\\n'\n",
      " 'print(p1.x)\\n'\n",
      " '```\\n'\n",
      " '\\n'\n",
      " 'Here, `p1` is an object of `MyClass`.\\n'\n",
      " '\\n'\n",
      " 'Classes also includes `__init__()` function, which is used to assign values '\n",
      " 'to object properties or other operations that are necessary to do when the '\n",
      " 'object is being created.\\n'\n",
      " '```Python\\n'\n",
      " 'class Person:\\n'\n",
      " '    def __init__(self, name, age):\\n'\n",
      " '        self.name = name\\n'\n",
      " '        self.age = age\\n'\n",
      " '```\\n'\n",
      " 'This `__init__()` function is called automatically every time the class is '\n",
      " 'being used to create a new object.\\n'\n",
      " '\\n'\n",
      " 'Classes also include methods defined by its users like this:\\n'\n",
      " '```Python\\n'\n",
      " 'class Myclass:\\n'\n",
      " '    def myfunc(self):\\n'\n",
      " '        print(\"Hello, World!\")\\n'\n",
      " '```\\n'\n",
      " 'Now we can access this function as shown below:\\n'\n",
      " '```Python\\n'\n",
      " 'p1 = Myclass()\\n'\n",
      " 'p1.myfunc()\\n'\n",
      " '```\\n'\n",
      " \"Output would be: `'Hello, World!'`\\n\"\n",
      " 'Objects can also contain methods. Methods in objects are functions that '\n",
      " 'belong to the object.']\n"
     ]
    }
   ],
   "source": [
    "results = question_func(\"Tell me about coding up classes in Python.\")"
   ]
  },
  {
   "cell_type": "code",
   "execution_count": 12,
   "metadata": {},
   "outputs": [
    {
     "data": {
      "text/plain": [
       "{'llm': {'replies': ['In Python, classes are a blueprint for creating objects (a particular data structure), providing initial values for state, and implementations of behavior. Classes are created using the keyword \\'class\\' and an indented block, which contains class methods. Below is an example of the creation of a class:\\n\\n```Python\\nclass MyClass:\\n    x = 5\\n```\\n\\nIn this example, a class named \"MyClass\" is created with a property named \"x\" set to 5. In order to create an object from the class, you would do the following:\\n\\n```Python\\np1 = MyClass()\\nprint(p1.x)\\n```\\n\\nHere, `p1` is an object of `MyClass`.\\n\\nClasses also includes `__init__()` function, which is used to assign values to object properties or other operations that are necessary to do when the object is being created.\\n```Python\\nclass Person:\\n    def __init__(self, name, age):\\n        self.name = name\\n        self.age = age\\n```\\nThis `__init__()` function is called automatically every time the class is being used to create a new object.\\n\\nClasses also include methods defined by its users like this:\\n```Python\\nclass Myclass:\\n    def myfunc(self):\\n        print(\"Hello, World!\")\\n```\\nNow we can access this function as shown below:\\n```Python\\np1 = Myclass()\\np1.myfunc()\\n```\\nOutput would be: `\\'Hello, World!\\'`\\nObjects can also contain methods. Methods in objects are functions that belong to the object.'],\n",
       "  'meta': [{'model': 'gpt-4-0613',\n",
       "    'index': 0,\n",
       "    'finish_reason': 'stop',\n",
       "    'usage': {'completion_tokens': 316,\n",
       "     'prompt_tokens': 6719,\n",
       "     'total_tokens': 7035}}]}}"
      ]
     },
     "execution_count": 12,
     "metadata": {},
     "output_type": "execute_result"
    }
   ],
   "source": [
    "results"
   ]
  },
  {
   "cell_type": "code",
   "execution_count": null,
   "metadata": {},
   "outputs": [],
   "source": [
    "# Dust Bin\n",
    "def get_tokens(self, contents: str | list[str]) -> list[int] | list[list[str]]:\n",
    "        tik_encoder: Encoding = encoding_for_model(model_name=self.model_type)\n",
    "        if isinstance(contents, list[str]):\n",
    "            return tik_encoder.encode_batch(contents)\n",
    "        return tik_encoder.encode(contents)"
   ]
  }
 ],
 "metadata": {
  "kernelspec": {
   "display_name": ".venv",
   "language": "python",
   "name": "python3"
  },
  "language_info": {
   "codemirror_mode": {
    "name": "ipython",
    "version": 3
   },
   "file_extension": ".py",
   "mimetype": "text/x-python",
   "name": "python",
   "nbconvert_exporter": "python",
   "pygments_lexer": "ipython3",
   "version": "3.12.2"
  }
 },
 "nbformat": 4,
 "nbformat_minor": 2
}
