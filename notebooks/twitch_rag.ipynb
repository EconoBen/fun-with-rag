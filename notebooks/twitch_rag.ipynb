{
 "cells": [
  {
   "cell_type": "code",
   "execution_count": 1,
   "metadata": {},
   "outputs": [],
   "source": [
    "from dotenv import load_dotenv\n",
    "from os import environ\n",
    "from atlassian import Jira\n",
    "\n",
    "load_dotenv(\".env\")\n",
    "jira_api_key = str(environ[\"JIRA_API_KEY\"])\n",
    "jira_password = environ[\"JIRA_PASSWORD\"]"
   ]
  },
  {
   "cell_type": "code",
   "execution_count": 8,
   "metadata": {},
   "outputs": [],
   "source": [
    "jira = Jira(\n",
    "    url='https://test-workhelix.atlassian.net',\n",
    "    username='ben@workhelix.com',\n",
    "    password=jira_api_key,\n",
    "   )"
   ]
  },
  {
   "cell_type": "code",
   "execution_count": 14,
   "metadata": {},
   "outputs": [
    {
     "data": {
      "text/plain": [
       "{'expand': 'description,lead,issueTypes,url,projectKeys,permissions,insight',\n",
       " 'self': 'https://test-workhelix.atlassian.net/rest/api/2/project/10000',\n",
       " 'id': '10000',\n",
       " 'key': 'BM',\n",
       " 'name': 'build machines',\n",
       " 'avatarUrls': {'48x48': 'https://test-workhelix.atlassian.net/rest/api/2/universal_avatar/view/type/project/avatar/10400',\n",
       "  '24x24': 'https://test-workhelix.atlassian.net/rest/api/2/universal_avatar/view/type/project/avatar/10400?size=small',\n",
       "  '16x16': 'https://test-workhelix.atlassian.net/rest/api/2/universal_avatar/view/type/project/avatar/10400?size=xsmall',\n",
       "  '32x32': 'https://test-workhelix.atlassian.net/rest/api/2/universal_avatar/view/type/project/avatar/10400?size=medium'},\n",
       " 'projectTypeKey': 'service_desk',\n",
       " 'simplified': False,\n",
       " 'style': 'classic',\n",
       " 'isPrivate': False,\n",
       " 'properties': {}}"
      ]
     },
     "execution_count": 14,
     "metadata": {},
     "output_type": "execute_result"
    }
   ],
   "source": [
    "[dct for dct in jira.get_all_projects() if dct[\"name\"] == 'build machines'][0]"
   ]
  },
  {
   "cell_type": "code",
   "execution_count": 19,
   "metadata": {},
   "outputs": [],
   "source": [
    "jql_request = \"project = 'build machines' AND status NOT IN (Closed, Resolved) ORDER BY issuekey\"\n",
    "issues = jira.jql(jql_request)"
   ]
  },
  {
   "cell_type": "code",
   "execution_count": 36,
   "metadata": {},
   "outputs": [
    {
     "data": {
      "text/plain": [
       "[{'Title': 'Implement OAuth2.0 for User Authentication',\n",
       "  'Description': 'Set up OAuth2.0 to enable secure user authentication via email and social media accounts. Ensure the implementation complies with the latest security standards.'},\n",
       " {'Title': ' Design Login and Registration UI',\n",
       "  'Description': 'Create user-friendly login and registration screens, ensuring a responsive design for mobile and web platforms. Include form validation and error handling.'},\n",
       " {'Title': 'Configure Session Management',\n",
       "  'Description': 'Implement secure session management to maintain user state across the application. Use JWT tokens for session identification and ensure sessions expire appropriately.'},\n",
       " {'Title': ' Database Schema for User Profiles',\n",
       "  'Description': 'Develop the database schema for storing user profiles, including fields for username, password (hashed), email, and profile settings. Ensure the schema supports future scalability.'},\n",
       " {'Title': 'Research Third-party APIs for Feature X',\n",
       "  'Description': 'Investigate and document potential third-party APIs that could be integrated to support Feature X, focusing on reliability, cost, and ease of integration.'},\n",
       " {'Title': ' Implement Core Logic for Feature X',\n",
       "  'Description': 'Develop the core logic for Feature X, ensuring modularity and testability of the code. Write unit tests covering all critical paths.'},\n",
       " {'Title': ' Prototype UI for Feature X',\n",
       "  'Description': 'Create a prototype of the UI for Feature X, incorporating feedback from the design team. Ensure the prototype is interactive and demonstrates key functionalities.'},\n",
       " {'Title': ' Optimize Database Queries for Reporting Feature',\n",
       "  'Description': 'Analyze and optimize current database queries used by the reporting feature to reduce latency and improve response times.'},\n",
       " {'Title': ' Implement Caching for High Traffic Endpoints',\n",
       "  'Description': 'Introduce caching mechanisms for high traffic endpoints to decrease load times and reduce server strain during peak usage.'},\n",
       " {'Title': ' Reduce Image Sizes for Faster Loading',\n",
       "  'Description': 'Compress and optimize all images used in the application to improve page load speeds without significantly impacting image quality.'}]"
      ]
     },
     "execution_count": 36,
     "metadata": {},
     "output_type": "execute_result"
    }
   ],
   "source": [
    "[{\"Title\": dct[\"fields\"][\"summary\"],\n",
    " \"Description\": dct[\"fields\"][\"description\"]} for dct in issues[\"issues\"]]"
   ]
  }
 ],
 "metadata": {
  "kernelspec": {
   "display_name": ".venv",
   "language": "python",
   "name": "python3"
  },
  "language_info": {
   "codemirror_mode": {
    "name": "ipython",
    "version": 3
   },
   "file_extension": ".py",
   "mimetype": "text/x-python",
   "name": "python",
   "nbconvert_exporter": "python",
   "pygments_lexer": "ipython3",
   "version": "3.12.2"
  }
 },
 "nbformat": 4,
 "nbformat_minor": 2
}
